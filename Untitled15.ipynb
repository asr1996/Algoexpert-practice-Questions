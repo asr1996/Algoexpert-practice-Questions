{
  "nbformat": 4,
  "nbformat_minor": 0,
  "metadata": {
    "colab": {
      "provenance": [],
      "authorship_tag": "ABX9TyN0bmgBsUWCNu/oR5+LSlbb",
      "include_colab_link": true
    },
    "kernelspec": {
      "name": "python3",
      "display_name": "Python 3"
    },
    "language_info": {
      "name": "python"
    }
  },
  "cells": [
    {
      "cell_type": "markdown",
      "metadata": {
        "id": "view-in-github",
        "colab_type": "text"
      },
      "source": [
        "<a href=\"https://colab.research.google.com/github/asr1996/Algoexpert-practice-Questions/blob/main/Untitled15.ipynb\" target=\"_parent\"><img src=\"https://colab.research.google.com/assets/colab-badge.svg\" alt=\"Open In Colab\"/></a>"
      ]
    },
    {
      "cell_type": "code",
      "execution_count": 12,
      "metadata": {
        "colab": {
          "base_uri": "https://localhost:8080/"
        },
        "id": "nnD-ccHwNp6T",
        "outputId": "720dcc62-3457-4382-cf4a-3e7c63921cdd"
      },
      "outputs": [
        {
          "output_type": "stream",
          "name": "stdout",
          "text": [
            "0 ayush\n",
            "1 ankush\n",
            "2 sid\n"
          ]
        }
      ],
      "source": [
        "a = ['ayush', 'ankush', 'sid']\n",
        "\n",
        "for i,name in enumerate(a):\n",
        "    print(i, name)"
      ]
    },
    {
      "cell_type": "code",
      "source": [
        "a = ['ayush', 'ankush', 'sid', 'ayush']\n",
        "\n",
        "for name in a:\n",
        "    print('yes') if name=='ayush' else print(\"no\")"
      ],
      "metadata": {
        "colab": {
          "base_uri": "https://localhost:8080/"
        },
        "id": "9WRGXJS9Sb-H",
        "outputId": "95ab86a4-edc5-4b78-fca4-cd7027534a1b"
      },
      "execution_count": 30,
      "outputs": [
        {
          "output_type": "stream",
          "name": "stdout",
          "text": [
            "yes\n",
            "no\n",
            "no\n",
            "yes\n"
          ]
        }
      ]
    },
    {
      "cell_type": "code",
      "source": [
        "array=['a','b', 'c']\n",
        "for i in array:\n",
        "    print(i)"
      ],
      "metadata": {
        "colab": {
          "base_uri": "https://localhost:8080/"
        },
        "id": "aTxhStLLWf36",
        "outputId": "ea1c4081-e4e4-41d2-a280-53a24fdf3959"
      },
      "execution_count": 17,
      "outputs": [
        {
          "output_type": "stream",
          "name": "stdout",
          "text": [
            "a\n",
            "b\n",
            "c\n"
          ]
        }
      ]
    },
    {
      "cell_type": "code",
      "source": [
        "for i in range(len(array)):\n",
        "    print(array[i])"
      ],
      "metadata": {
        "colab": {
          "base_uri": "https://localhost:8080/"
        },
        "id": "Im0bZrUaWoC2",
        "outputId": "dc4b7191-316c-41d1-c18c-d42e13d466ea"
      },
      "execution_count": 19,
      "outputs": [
        {
          "output_type": "stream",
          "name": "stdout",
          "text": [
            "a\n",
            "b\n",
            "c\n"
          ]
        }
      ]
    },
    {
      "cell_type": "code",
      "source": [
        "for i in enumerate(array):\n",
        "    print(i)"
      ],
      "metadata": {
        "colab": {
          "base_uri": "https://localhost:8080/"
        },
        "id": "rg_2YdQdXMOo",
        "outputId": "e0f90fc0-59d9-4fd7-8eac-72b93dae22c6"
      },
      "execution_count": 20,
      "outputs": [
        {
          "output_type": "stream",
          "name": "stdout",
          "text": [
            "(0, 'a')\n",
            "(1, 'b')\n",
            "(2, 'c')\n"
          ]
        }
      ]
    },
    {
      "cell_type": "code",
      "source": [
        "dict1={'Ayush':27, 'Ankush':23, 'Priyansh':25, 'Sid':30}\n",
        "for name in dict1:\n",
        "    print(dict1.values())"
      ],
      "metadata": {
        "colab": {
          "base_uri": "https://localhost:8080/"
        },
        "id": "VW-p1-4OXWcW",
        "outputId": "5698e23c-13b1-4109-9298-2266acabdfb8"
      },
      "execution_count": 59,
      "outputs": [
        {
          "output_type": "stream",
          "name": "stdout",
          "text": [
            "dict_values([27, 23, 25, 30])\n",
            "dict_values([27, 23, 25, 30])\n",
            "dict_values([27, 23, 25, 30])\n",
            "dict_values([27, 23, 25, 30])\n"
          ]
        }
      ]
    },
    {
      "cell_type": "code",
      "source": [
        "for age in dict1:\n",
        "    print(dict1[age])"
      ],
      "metadata": {
        "colab": {
          "base_uri": "https://localhost:8080/"
        },
        "id": "iUHBkE7nZmd8",
        "outputId": "5c31960b-70cd-4788-a171-09fa259fc27b"
      },
      "execution_count": 22,
      "outputs": [
        {
          "output_type": "stream",
          "name": "stdout",
          "text": [
            "27\n",
            "23\n",
            "25\n",
            "30\n"
          ]
        }
      ]
    },
    {
      "cell_type": "code",
      "source": [
        "print(dict1.values())"
      ],
      "metadata": {
        "colab": {
          "base_uri": "https://localhost:8080/"
        },
        "id": "7-YsNhtJZwJC",
        "outputId": "7295171e-3222-42c9-c708-4ac3c6ad7f96"
      },
      "execution_count": 27,
      "outputs": [
        {
          "output_type": "stream",
          "name": "stdout",
          "text": [
            "dict_values([27, 23, 25, 30])\n"
          ]
        }
      ]
    },
    {
      "cell_type": "code",
      "source": [
        "for name,age in enumerate(dict1.items()):\n",
        "    print(name,age)"
      ],
      "metadata": {
        "colab": {
          "base_uri": "https://localhost:8080/"
        },
        "id": "NcAmyFBnZ1XM",
        "outputId": "c246acc4-a957-4c4b-abfa-9f7f3c4a7fe0"
      },
      "execution_count": 24,
      "outputs": [
        {
          "output_type": "stream",
          "name": "stdout",
          "text": [
            "0 ('Ayush', 27)\n",
            "1 ('Ankush', 23)\n",
            "2 ('Priyansh', 25)\n",
            "3 ('Sid', 30)\n"
          ]
        }
      ]
    },
    {
      "cell_type": "code",
      "source": [
        "a=[10,13,45,67,12,1323,55343,2,6,1]\n",
        "a.sort()"
      ],
      "metadata": {
        "colab": {
          "base_uri": "https://localhost:8080/"
        },
        "id": "gM7FJ9uuaBVd",
        "outputId": "753ecc41-5099-4e8f-fb50-ba18784976c9"
      },
      "execution_count": 32,
      "outputs": [
        {
          "output_type": "stream",
          "name": "stdout",
          "text": [
            "None\n"
          ]
        }
      ]
    },
    {
      "cell_type": "code",
      "source": [
        "print(a)"
      ],
      "metadata": {
        "colab": {
          "base_uri": "https://localhost:8080/"
        },
        "id": "07g7NyiwbprO",
        "outputId": "5bcb8dbf-61f1-46c3-ede0-49806ee561de"
      },
      "execution_count": 33,
      "outputs": [
        {
          "output_type": "stream",
          "name": "stdout",
          "text": [
            "[1, 2, 6, 10, 12, 13, 45, 67, 1323, 55343]\n"
          ]
        }
      ]
    },
    {
      "cell_type": "code",
      "source": [
        "two_d_array=[[1,2],[3,4],[5,6]]\n",
        "print(two_d_array)\n"
      ],
      "metadata": {
        "colab": {
          "base_uri": "https://localhost:8080/"
        },
        "id": "-uQxdgWAbzaH",
        "outputId": "29ad5266-1f34-452a-c61f-a97e3b45ba31"
      },
      "execution_count": 34,
      "outputs": [
        {
          "output_type": "stream",
          "name": "stdout",
          "text": [
            "[[1, 2], [3, 4], [5, 6]]\n"
          ]
        }
      ]
    },
    {
      "cell_type": "code",
      "source": [
        "for i in two_d_array:\n",
        "    print(len(two_d_array))"
      ],
      "metadata": {
        "colab": {
          "base_uri": "https://localhost:8080/"
        },
        "id": "13fa6eCkcRJ0",
        "outputId": "1e915a97-134c-4007-b06f-f52fa06890e4"
      },
      "execution_count": 48,
      "outputs": [
        {
          "output_type": "stream",
          "name": "stdout",
          "text": [
            "3\n",
            "3\n",
            "3\n"
          ]
        }
      ]
    },
    {
      "cell_type": "code",
      "source": [
        "for i,j in enumerate(two_d_array):\n",
        "    print(j)"
      ],
      "metadata": {
        "colab": {
          "base_uri": "https://localhost:8080/"
        },
        "id": "amQ21rTwcYCQ",
        "outputId": "4a24cd9d-ec92-44b8-e362-428fda059586"
      },
      "execution_count": 55,
      "outputs": [
        {
          "output_type": "stream",
          "name": "stdout",
          "text": [
            "[1, 2]\n",
            "[3, 4]\n",
            "[5, 6]\n"
          ]
        }
      ]
    },
    {
      "cell_type": "code",
      "source": [],
      "metadata": {
        "id": "-2-50gjPedOT"
      },
      "execution_count": null,
      "outputs": []
    },
    {
      "cell_type": "code",
      "source": [],
      "metadata": {
        "id": "tVQIXgxJhhP3"
      },
      "execution_count": null,
      "outputs": []
    },
    {
      "cell_type": "code",
      "source": [],
      "metadata": {
        "id": "U6-bFIuLhiHa"
      },
      "execution_count": null,
      "outputs": []
    },
    {
      "cell_type": "code",
      "source": [],
      "metadata": {
        "id": "r-Kg0r05hjjC"
      },
      "execution_count": null,
      "outputs": []
    }
  ]
}